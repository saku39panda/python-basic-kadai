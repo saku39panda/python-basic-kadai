{
  "nbformat": 4,
  "nbformat_minor": 0,
  "metadata": {
    "colab": {
      "provenance": []
    },
    "kernelspec": {
      "name": "python3",
      "display_name": "Python 3"
    },
    "language_info": {
      "name": "python"
    }
  },
  "cells": [
    {
      "cell_type": "code",
      "execution_count": 3,
      "metadata": {
        "colab": {
          "base_uri": "https://localhost:8080/"
        },
        "id": "TMzvyYdVtXt5",
        "outputId": "93909ecb-21b3-4ad3-9ac1-2de5a55aa78d"
      },
      "outputs": [
        {
          "output_type": "stream",
          "name": "stdout",
          "text": [
            "121.00000000000001\n"
          ]
        }
      ],
      "source": [
        "def calc(price, tax):\n",
        "  total = price * (1 + tax/100)\n",
        "\n",
        "  print(total)\n",
        "\n",
        "calc(110, 10)\n",
        ""
      ]
    }
  ]
}