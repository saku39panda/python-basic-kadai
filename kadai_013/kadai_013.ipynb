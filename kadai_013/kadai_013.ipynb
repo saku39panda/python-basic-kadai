{
  "nbformat": 4,
  "nbformat_minor": 0,
  "metadata": {
    "colab": {
      "provenance": []
    },
    "kernelspec": {
      "name": "python3",
      "display_name": "Python 3"
    },
    "language_info": {
      "name": "python"
    }
  },
  "cells": [
    {
      "cell_type": "code",
      "execution_count": 14,
      "metadata": {
        "colab": {
          "base_uri": "https://localhost:8080/"
        },
        "id": "TMzvyYdVtXt5",
        "outputId": "bb99bce8-f768-41db-c492-31956c180774"
      },
      "outputs": [
        {
          "output_type": "stream",
          "name": "stdout",
          "text": [
            "121.0\n"
          ]
        }
      ],
      "source": [
        "def calc(price, tax):\n",
        "  tax_amount = price * (tax / 100)\n",
        "  total = price + tax_amount\n",
        "\n",
        "  return total\n",
        "\n",
        "price = 110\n",
        "tax = 10\n",
        "\n",
        "total_price = calc(price, tax)\n",
        "print(total_price)\n"
      ]
    },
    {
      "cell_type": "code",
      "source": [],
      "metadata": {
        "id": "G-_-LwH8ykNU"
      },
      "execution_count": null,
      "outputs": []
    }
  ]
}