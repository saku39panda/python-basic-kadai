{
  "nbformat": 4,
  "nbformat_minor": 0,
  "metadata": {
    "colab": {
      "provenance": []
    },
    "kernelspec": {
      "name": "python3",
      "display_name": "Python 3"
    },
    "language_info": {
      "name": "python"
    }
  },
  "cells": [
    {
      "cell_type": "code",
      "execution_count": 3,
      "metadata": {
        "colab": {
          "base_uri": "https://localhost:8080/"
        },
        "id": "hucHwJ3fKJrH",
        "outputId": "79dbbb6d-36ad-4f5f-8eac-b2d8965f4da2"
      },
      "outputs": [
        {
          "output_type": "stream",
          "name": "stdout",
          "text": [
            "太郎さんは大人です。\n",
            "花子さんは大人ではありません。\n",
            "次郎さんは大人です。\n",
            "秋子さんは大人ではありません。\n"
          ]
        }
      ],
      "source": [
        "class Human:\n",
        "    def __init__(self, name, age):\n",
        "        self.name = name\n",
        "        self.age = age\n",
        "\n",
        "    def check_adult(self):\n",
        "        if self.age >= 20:\n",
        "            print(f\"{self.name}さんは大人です。\")\n",
        "        else:\n",
        "            print(f\"{self.name}さんは大人ではありません。\")\n",
        "\n",
        "# Humanクラスのインスタンス\n",
        "human_list = [\n",
        "    Human(\"太郎\", 25),\n",
        "    Human(\"花子\", 18),\n",
        "    Human(\"次郎\", 30),\n",
        "    Human(\"秋子\", 15)\n",
        "]\n",
        "\n",
        "# human_listを１つずつ取り出し、humanという変数を定義する　それに対し、.check_adultを実行する\n",
        "for human in human_list:\n",
        "    human.check_adult()"
      ]
    }
  ]
}