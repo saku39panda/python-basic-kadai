{
  "nbformat": 4,
  "nbformat_minor": 0,
  "metadata": {
    "colab": {
      "provenance": []
    },
    "kernelspec": {
      "name": "python3",
      "display_name": "Python 3"
    },
    "language_info": {
      "name": "python"
    }
  },
  "cells": [
    {
      "cell_type": "code",
      "execution_count": 6,
      "metadata": {
        "colab": {
          "base_uri": "https://localhost:8080/"
        },
        "id": "-8Smy6QT_mdT",
        "outputId": "93fd35e6-2440-4cab-b658-2f49ac4fdb29"
      },
      "outputs": [
        {
          "output_type": "stream",
          "name": "stdout",
          "text": [
            "75.0cm²\n"
          ]
        }
      ],
      "source": [
        "upper = 10\n",
        "lower = 20\n",
        "height = 5\n",
        "area = (upper + lower) * height / 2\n",
        "print(str(area) + \"cm²\")"
      ]
    }
  ]
}